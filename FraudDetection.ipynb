{
  "cells": [
    {
      "cell_type": "code",
      "execution_count": null,
      "metadata": {
        "id": "C429kLnDVsTo"
      },
      "outputs": [],
      "source": [
        "#Libary imports\n",
        "import numpy as np\n",
        "import pandas as pd\n",
        "import tensorflow as tf\n",
        "import seaborn as sns\n",
        "import sklearn as SK\n",
        "import matplotlib.pyplot as plt\n",
        "\n",
        "from sklearn.model_selection import train_test_split\n",
        "from sklearn.metrics import accuracy_score\n",
        "from sklearn import metrics\n",
        "from sklearn import tree\n",
        "from sklearn.tree import DecisionTreeClassifier"
      ]
    },
    {
      "cell_type": "code",
      "execution_count": null,
      "metadata": {
        "colab": {
          "base_uri": "https://localhost:8080/"
        },
        "id": "uzkgGAJhiEs1",
        "outputId": "ea3b6416-da3f-4314-ae6b-c0905c20dd25"
      },
      "outputs": [
        {
          "output_type": "stream",
          "name": "stdout",
          "text": [
            "1.21.6\n",
            "1.3.5\n",
            "2.8.0\n",
            "0.11.2\n",
            "1.0.2\n"
          ]
        }
      ],
      "source": [
        "#Test imported correctly & version\n",
        "print(np.__version__)\n",
        "print(pd.__version__)\n",
        "print(tf.__version__)\n",
        "print(sns.__version__)\n",
        "print(SK.__version__)"
      ]
    },
    {
      "cell_type": "code",
      "execution_count": null,
      "metadata": {
        "colab": {
          "base_uri": "https://localhost:8080/",
          "height": 299
        },
        "id": "SXL7vRk2XTq1",
        "outputId": "0dbfb882-1723-465a-8525-07ce1d4c77c9"
      },
      "outputs": [
        {
          "output_type": "execute_result",
          "data": {
            "text/plain": [
              "            Time        V1        V2        V3        V4        V5        V6  \\\n",
              "238942  149887.0 -1.312272  1.498490  1.032589  4.576608  0.005543  1.596070   \n",
              "171167  120525.0  1.802980 -0.573555 -1.695181  0.635055  0.399602  1.164311   \n",
              "11389    19876.0  1.143786 -0.299606  1.052279 -0.688602 -0.813699  0.045527   \n",
              "216572  140535.0 -3.239417  1.905417 -0.222833 -1.094422 -0.749993 -0.151242   \n",
              "282767  171132.0 -0.748972 -0.537249  1.862441 -1.367889 -1.128198  0.813276   \n",
              "\n",
              "              V7        V8        V9  ...       V21       V22       V23  \\\n",
              "238942 -0.553598  0.986340 -1.482738  ...  0.239734  0.758225 -0.377278   \n",
              "171167 -0.800088  0.455734 -0.501848  ... -0.310165 -0.337828  0.168485   \n",
              "11389  -0.766045  0.114260  2.695177  ... -0.065987  0.328028 -0.028354   \n",
              "216572 -0.182630  0.681000  2.367966  ... -0.087941  0.612541 -0.020772   \n",
              "282767 -0.281005  0.289413 -0.396039  ...  0.001371  0.550992 -0.023814   \n",
              "\n",
              "             V24       V25       V26       V27       V28  Amount  Class  \n",
              "238942  0.740483 -0.224530  0.486888 -0.553299 -0.289620   18.52      0  \n",
              "171167 -1.901670 -0.370531 -0.564167  0.122966  0.001523   77.00      0  \n",
              "11389   0.007954  0.403295 -0.717171  0.083860  0.019235   11.85      0  \n",
              "216572  0.578868  0.183457  0.615689  0.955077  1.090844   29.99      0  \n",
              "282767  0.741235 -0.592317 -0.362683  0.206619  0.126613  156.20      0  \n",
              "\n",
              "[5 rows x 31 columns]"
            ],
            "text/html": [
              "\n",
              "  <div id=\"df-b269c093-c1f3-4492-8c97-a9e651b3fd96\">\n",
              "    <div class=\"colab-df-container\">\n",
              "      <div>\n",
              "<style scoped>\n",
              "    .dataframe tbody tr th:only-of-type {\n",
              "        vertical-align: middle;\n",
              "    }\n",
              "\n",
              "    .dataframe tbody tr th {\n",
              "        vertical-align: top;\n",
              "    }\n",
              "\n",
              "    .dataframe thead th {\n",
              "        text-align: right;\n",
              "    }\n",
              "</style>\n",
              "<table border=\"1\" class=\"dataframe\">\n",
              "  <thead>\n",
              "    <tr style=\"text-align: right;\">\n",
              "      <th></th>\n",
              "      <th>Time</th>\n",
              "      <th>V1</th>\n",
              "      <th>V2</th>\n",
              "      <th>V3</th>\n",
              "      <th>V4</th>\n",
              "      <th>V5</th>\n",
              "      <th>V6</th>\n",
              "      <th>V7</th>\n",
              "      <th>V8</th>\n",
              "      <th>V9</th>\n",
              "      <th>...</th>\n",
              "      <th>V21</th>\n",
              "      <th>V22</th>\n",
              "      <th>V23</th>\n",
              "      <th>V24</th>\n",
              "      <th>V25</th>\n",
              "      <th>V26</th>\n",
              "      <th>V27</th>\n",
              "      <th>V28</th>\n",
              "      <th>Amount</th>\n",
              "      <th>Class</th>\n",
              "    </tr>\n",
              "  </thead>\n",
              "  <tbody>\n",
              "    <tr>\n",
              "      <th>238942</th>\n",
              "      <td>149887.0</td>\n",
              "      <td>-1.312272</td>\n",
              "      <td>1.498490</td>\n",
              "      <td>1.032589</td>\n",
              "      <td>4.576608</td>\n",
              "      <td>0.005543</td>\n",
              "      <td>1.596070</td>\n",
              "      <td>-0.553598</td>\n",
              "      <td>0.986340</td>\n",
              "      <td>-1.482738</td>\n",
              "      <td>...</td>\n",
              "      <td>0.239734</td>\n",
              "      <td>0.758225</td>\n",
              "      <td>-0.377278</td>\n",
              "      <td>0.740483</td>\n",
              "      <td>-0.224530</td>\n",
              "      <td>0.486888</td>\n",
              "      <td>-0.553299</td>\n",
              "      <td>-0.289620</td>\n",
              "      <td>18.52</td>\n",
              "      <td>0</td>\n",
              "    </tr>\n",
              "    <tr>\n",
              "      <th>171167</th>\n",
              "      <td>120525.0</td>\n",
              "      <td>1.802980</td>\n",
              "      <td>-0.573555</td>\n",
              "      <td>-1.695181</td>\n",
              "      <td>0.635055</td>\n",
              "      <td>0.399602</td>\n",
              "      <td>1.164311</td>\n",
              "      <td>-0.800088</td>\n",
              "      <td>0.455734</td>\n",
              "      <td>-0.501848</td>\n",
              "      <td>...</td>\n",
              "      <td>-0.310165</td>\n",
              "      <td>-0.337828</td>\n",
              "      <td>0.168485</td>\n",
              "      <td>-1.901670</td>\n",
              "      <td>-0.370531</td>\n",
              "      <td>-0.564167</td>\n",
              "      <td>0.122966</td>\n",
              "      <td>0.001523</td>\n",
              "      <td>77.00</td>\n",
              "      <td>0</td>\n",
              "    </tr>\n",
              "    <tr>\n",
              "      <th>11389</th>\n",
              "      <td>19876.0</td>\n",
              "      <td>1.143786</td>\n",
              "      <td>-0.299606</td>\n",
              "      <td>1.052279</td>\n",
              "      <td>-0.688602</td>\n",
              "      <td>-0.813699</td>\n",
              "      <td>0.045527</td>\n",
              "      <td>-0.766045</td>\n",
              "      <td>0.114260</td>\n",
              "      <td>2.695177</td>\n",
              "      <td>...</td>\n",
              "      <td>-0.065987</td>\n",
              "      <td>0.328028</td>\n",
              "      <td>-0.028354</td>\n",
              "      <td>0.007954</td>\n",
              "      <td>0.403295</td>\n",
              "      <td>-0.717171</td>\n",
              "      <td>0.083860</td>\n",
              "      <td>0.019235</td>\n",
              "      <td>11.85</td>\n",
              "      <td>0</td>\n",
              "    </tr>\n",
              "    <tr>\n",
              "      <th>216572</th>\n",
              "      <td>140535.0</td>\n",
              "      <td>-3.239417</td>\n",
              "      <td>1.905417</td>\n",
              "      <td>-0.222833</td>\n",
              "      <td>-1.094422</td>\n",
              "      <td>-0.749993</td>\n",
              "      <td>-0.151242</td>\n",
              "      <td>-0.182630</td>\n",
              "      <td>0.681000</td>\n",
              "      <td>2.367966</td>\n",
              "      <td>...</td>\n",
              "      <td>-0.087941</td>\n",
              "      <td>0.612541</td>\n",
              "      <td>-0.020772</td>\n",
              "      <td>0.578868</td>\n",
              "      <td>0.183457</td>\n",
              "      <td>0.615689</td>\n",
              "      <td>0.955077</td>\n",
              "      <td>1.090844</td>\n",
              "      <td>29.99</td>\n",
              "      <td>0</td>\n",
              "    </tr>\n",
              "    <tr>\n",
              "      <th>282767</th>\n",
              "      <td>171132.0</td>\n",
              "      <td>-0.748972</td>\n",
              "      <td>-0.537249</td>\n",
              "      <td>1.862441</td>\n",
              "      <td>-1.367889</td>\n",
              "      <td>-1.128198</td>\n",
              "      <td>0.813276</td>\n",
              "      <td>-0.281005</td>\n",
              "      <td>0.289413</td>\n",
              "      <td>-0.396039</td>\n",
              "      <td>...</td>\n",
              "      <td>0.001371</td>\n",
              "      <td>0.550992</td>\n",
              "      <td>-0.023814</td>\n",
              "      <td>0.741235</td>\n",
              "      <td>-0.592317</td>\n",
              "      <td>-0.362683</td>\n",
              "      <td>0.206619</td>\n",
              "      <td>0.126613</td>\n",
              "      <td>156.20</td>\n",
              "      <td>0</td>\n",
              "    </tr>\n",
              "  </tbody>\n",
              "</table>\n",
              "<p>5 rows × 31 columns</p>\n",
              "</div>\n",
              "      <button class=\"colab-df-convert\" onclick=\"convertToInteractive('df-b269c093-c1f3-4492-8c97-a9e651b3fd96')\"\n",
              "              title=\"Convert this dataframe to an interactive table.\"\n",
              "              style=\"display:none;\">\n",
              "        \n",
              "  <svg xmlns=\"http://www.w3.org/2000/svg\" height=\"24px\"viewBox=\"0 0 24 24\"\n",
              "       width=\"24px\">\n",
              "    <path d=\"M0 0h24v24H0V0z\" fill=\"none\"/>\n",
              "    <path d=\"M18.56 5.44l.94 2.06.94-2.06 2.06-.94-2.06-.94-.94-2.06-.94 2.06-2.06.94zm-11 1L8.5 8.5l.94-2.06 2.06-.94-2.06-.94L8.5 2.5l-.94 2.06-2.06.94zm10 10l.94 2.06.94-2.06 2.06-.94-2.06-.94-.94-2.06-.94 2.06-2.06.94z\"/><path d=\"M17.41 7.96l-1.37-1.37c-.4-.4-.92-.59-1.43-.59-.52 0-1.04.2-1.43.59L10.3 9.45l-7.72 7.72c-.78.78-.78 2.05 0 2.83L4 21.41c.39.39.9.59 1.41.59.51 0 1.02-.2 1.41-.59l7.78-7.78 2.81-2.81c.8-.78.8-2.07 0-2.86zM5.41 20L4 18.59l7.72-7.72 1.47 1.35L5.41 20z\"/>\n",
              "  </svg>\n",
              "      </button>\n",
              "      \n",
              "  <style>\n",
              "    .colab-df-container {\n",
              "      display:flex;\n",
              "      flex-wrap:wrap;\n",
              "      gap: 12px;\n",
              "    }\n",
              "\n",
              "    .colab-df-convert {\n",
              "      background-color: #E8F0FE;\n",
              "      border: none;\n",
              "      border-radius: 50%;\n",
              "      cursor: pointer;\n",
              "      display: none;\n",
              "      fill: #1967D2;\n",
              "      height: 32px;\n",
              "      padding: 0 0 0 0;\n",
              "      width: 32px;\n",
              "    }\n",
              "\n",
              "    .colab-df-convert:hover {\n",
              "      background-color: #E2EBFA;\n",
              "      box-shadow: 0px 1px 2px rgba(60, 64, 67, 0.3), 0px 1px 3px 1px rgba(60, 64, 67, 0.15);\n",
              "      fill: #174EA6;\n",
              "    }\n",
              "\n",
              "    [theme=dark] .colab-df-convert {\n",
              "      background-color: #3B4455;\n",
              "      fill: #D2E3FC;\n",
              "    }\n",
              "\n",
              "    [theme=dark] .colab-df-convert:hover {\n",
              "      background-color: #434B5C;\n",
              "      box-shadow: 0px 1px 3px 1px rgba(0, 0, 0, 0.15);\n",
              "      filter: drop-shadow(0px 1px 2px rgba(0, 0, 0, 0.3));\n",
              "      fill: #FFFFFF;\n",
              "    }\n",
              "  </style>\n",
              "\n",
              "      <script>\n",
              "        const buttonEl =\n",
              "          document.querySelector('#df-b269c093-c1f3-4492-8c97-a9e651b3fd96 button.colab-df-convert');\n",
              "        buttonEl.style.display =\n",
              "          google.colab.kernel.accessAllowed ? 'block' : 'none';\n",
              "\n",
              "        async function convertToInteractive(key) {\n",
              "          const element = document.querySelector('#df-b269c093-c1f3-4492-8c97-a9e651b3fd96');\n",
              "          const dataTable =\n",
              "            await google.colab.kernel.invokeFunction('convertToInteractive',\n",
              "                                                     [key], {});\n",
              "          if (!dataTable) return;\n",
              "\n",
              "          const docLinkHtml = 'Like what you see? Visit the ' +\n",
              "            '<a target=\"_blank\" href=https://colab.research.google.com/notebooks/data_table.ipynb>data table notebook</a>'\n",
              "            + ' to learn more about interactive tables.';\n",
              "          element.innerHTML = '';\n",
              "          dataTable['output_type'] = 'display_data';\n",
              "          await google.colab.output.renderOutput(dataTable, element);\n",
              "          const docLink = document.createElement('div');\n",
              "          docLink.innerHTML = docLinkHtml;\n",
              "          element.appendChild(docLink);\n",
              "        }\n",
              "      </script>\n",
              "    </div>\n",
              "  </div>\n",
              "  "
            ]
          },
          "metadata": {},
          "execution_count": 17
        }
      ],
      "source": [
        "#Reading the file \n",
        "df = pd.read_csv(\"creditcard.csv\")\n",
        "\n",
        "#Sample file to check if it has been read\n",
        "df.sample(5)"
      ]
    },
    {
      "cell_type": "code",
      "execution_count": null,
      "metadata": {
        "colab": {
          "base_uri": "https://localhost:8080/"
        },
        "id": "7KrV-0Y-WDv0",
        "outputId": "5254f419-53c7-4cf4-aa42-35c1914eb287"
      },
      "outputs": [
        {
          "output_type": "stream",
          "name": "stdout",
          "text": [
            "Normal Transaction :\n",
            "            Time         V1         V2        V3        V4        V5  \\\n",
            "0            0.0  -1.359807  -0.072781  2.536347  1.378155 -0.338321   \n",
            "1            0.0   1.191857   0.266151  0.166480  0.448154  0.060018   \n",
            "2            1.0  -1.358354  -1.340163  1.773209  0.379780 -0.503198   \n",
            "3            1.0  -0.966272  -0.185226  1.792993 -0.863291 -0.010309   \n",
            "4            2.0  -1.158233   0.877737  1.548718  0.403034 -0.407193   \n",
            "...          ...        ...        ...       ...       ...       ...   \n",
            "284802  172786.0 -11.881118  10.071785 -9.834783 -2.066656 -5.364473   \n",
            "284803  172787.0  -0.732789  -0.055080  2.035030 -0.738589  0.868229   \n",
            "284804  172788.0   1.919565  -0.301254 -3.249640 -0.557828  2.630515   \n",
            "284805  172788.0  -0.240440   0.530483  0.702510  0.689799 -0.377961   \n",
            "284806  172792.0  -0.533413  -0.189733  0.703337 -0.506271 -0.012546   \n",
            "\n",
            "              V6        V7        V8        V9  ...       V21       V22  \\\n",
            "0       0.462388  0.239599  0.098698  0.363787  ... -0.018307  0.277838   \n",
            "1      -0.082361 -0.078803  0.085102 -0.255425  ... -0.225775 -0.638672   \n",
            "2       1.800499  0.791461  0.247676 -1.514654  ...  0.247998  0.771679   \n",
            "3       1.247203  0.237609  0.377436 -1.387024  ... -0.108300  0.005274   \n",
            "4       0.095921  0.592941 -0.270533  0.817739  ... -0.009431  0.798278   \n",
            "...          ...       ...       ...       ...  ...       ...       ...   \n",
            "284802 -2.606837 -4.918215  7.305334  1.914428  ...  0.213454  0.111864   \n",
            "284803  1.058415  0.024330  0.294869  0.584800  ...  0.214205  0.924384   \n",
            "284804  3.031260 -0.296827  0.708417  0.432454  ...  0.232045  0.578229   \n",
            "284805  0.623708 -0.686180  0.679145  0.392087  ...  0.265245  0.800049   \n",
            "284806 -0.649617  1.577006 -0.414650  0.486180  ...  0.261057  0.643078   \n",
            "\n",
            "             V23       V24       V25       V26       V27       V28  Amount  \\\n",
            "0      -0.110474  0.066928  0.128539 -0.189115  0.133558 -0.021053  149.62   \n",
            "1       0.101288 -0.339846  0.167170  0.125895 -0.008983  0.014724    2.69   \n",
            "2       0.909412 -0.689281 -0.327642 -0.139097 -0.055353 -0.059752  378.66   \n",
            "3      -0.190321 -1.175575  0.647376 -0.221929  0.062723  0.061458  123.50   \n",
            "4      -0.137458  0.141267 -0.206010  0.502292  0.219422  0.215153   69.99   \n",
            "...          ...       ...       ...       ...       ...       ...     ...   \n",
            "284802  1.014480 -0.509348  1.436807  0.250034  0.943651  0.823731    0.77   \n",
            "284803  0.012463 -1.016226 -0.606624 -0.395255  0.068472 -0.053527   24.79   \n",
            "284804 -0.037501  0.640134  0.265745 -0.087371  0.004455 -0.026561   67.88   \n",
            "284805 -0.163298  0.123205 -0.569159  0.546668  0.108821  0.104533   10.00   \n",
            "284806  0.376777  0.008797 -0.473649 -0.818267 -0.002415  0.013649  217.00   \n",
            "\n",
            "        Class  \n",
            "0           0  \n",
            "1           0  \n",
            "2           0  \n",
            "3           0  \n",
            "4           0  \n",
            "...       ...  \n",
            "284802      0  \n",
            "284803      0  \n",
            "284804      0  \n",
            "284805      0  \n",
            "284806      0  \n",
            "\n",
            "[284315 rows x 31 columns]\n",
            "Fraudulent Transaction :\n",
            "            Time        V1        V2        V3        V4        V5        V6  \\\n",
            "541        406.0 -2.312227  1.951992 -1.609851  3.997906 -0.522188 -1.426545   \n",
            "623        472.0 -3.043541 -3.157307  1.088463  2.288644  1.359805 -1.064823   \n",
            "4920      4462.0 -2.303350  1.759247 -0.359745  2.330243 -0.821628 -0.075788   \n",
            "6108      6986.0 -4.397974  1.358367 -2.592844  2.679787 -1.128131 -1.706536   \n",
            "6329      7519.0  1.234235  3.019740 -4.304597  4.732795  3.624201 -1.357746   \n",
            "...          ...       ...       ...       ...       ...       ...       ...   \n",
            "279863  169142.0 -1.927883  1.125653 -4.518331  1.749293 -1.566487 -2.010494   \n",
            "280143  169347.0  1.378559  1.289381 -5.004247  1.411850  0.442581 -1.326536   \n",
            "280149  169351.0 -0.676143  1.126366 -2.213700  0.468308 -1.120541 -0.003346   \n",
            "281144  169966.0 -3.113832  0.585864 -5.399730  1.817092 -0.840618 -2.943548   \n",
            "281674  170348.0  1.991976  0.158476 -2.583441  0.408670  1.151147 -0.096695   \n",
            "\n",
            "              V7        V8        V9  ...       V21       V22       V23  \\\n",
            "541    -2.537387  1.391657 -2.770089  ...  0.517232 -0.035049 -0.465211   \n",
            "623     0.325574 -0.067794 -0.270953  ...  0.661696  0.435477  1.375966   \n",
            "4920    0.562320 -0.399147 -0.238253  ... -0.294166 -0.932391  0.172726   \n",
            "6108   -3.496197 -0.248778 -0.247768  ...  0.573574  0.176968 -0.436207   \n",
            "6329    1.713445 -0.496358 -1.282858  ... -0.379068 -0.704181 -0.656805   \n",
            "...          ...       ...       ...  ...       ...       ...       ...   \n",
            "279863 -0.882850  0.697211 -2.064945  ...  0.778584 -0.319189  0.639419   \n",
            "280143 -1.413170  0.248525 -1.127396  ...  0.370612  0.028234 -0.145640   \n",
            "280149 -2.234739  1.210158 -0.652250  ...  0.751826  0.834108  0.190944   \n",
            "281144 -2.208002  1.058733 -1.632333  ...  0.583276 -0.269209 -0.456108   \n",
            "281674  0.223050 -0.068384  0.577829  ... -0.164350 -0.295135 -0.072173   \n",
            "\n",
            "             V24       V25       V26       V27       V28  Amount  Class  \n",
            "541     0.320198  0.044519  0.177840  0.261145 -0.143276    0.00      1  \n",
            "623    -0.293803  0.279798 -0.145362 -0.252773  0.035764  529.00      1  \n",
            "4920   -0.087330 -0.156114 -0.542628  0.039566 -0.153029  239.93      1  \n",
            "6108   -0.053502  0.252405 -0.657488 -0.827136  0.849573   59.00      1  \n",
            "6329   -1.632653  1.488901  0.566797 -0.010016  0.146793    1.00      1  \n",
            "...          ...       ...       ...       ...       ...     ...    ...  \n",
            "279863 -0.294885  0.537503  0.788395  0.292680  0.147968  390.00      1  \n",
            "280143 -0.081049  0.521875  0.739467  0.389152  0.186637    0.76      1  \n",
            "280149  0.032070 -0.739695  0.471111  0.385107  0.194361   77.89      1  \n",
            "281144 -0.183659 -0.328168  0.606116  0.884876 -0.253700  245.00      1  \n",
            "281674 -0.450261  0.313267 -0.289617  0.002988 -0.015309   42.53      1  \n",
            "\n",
            "[492 rows x 31 columns]\n"
          ]
        }
      ],
      "source": [
        "#Isolate 'Normal' & 'Fraudulent' transaction\n",
        "Normal = df[df[\"Class\"] == 0]\n",
        "Fraudulent = df[df[\"Class\"] == 1]\n",
        "\n",
        "print(\"Normal Transaction :\")\n",
        "print(Normal)\n",
        "print(\"Fraudulent Transaction :\")\n",
        "print(Fraudulent)"
      ]
    },
    {
      "cell_type": "code",
      "execution_count": null,
      "metadata": {
        "colab": {
          "base_uri": "https://localhost:8080/",
          "height": 307
        },
        "id": "D2Ut70JpJAJh",
        "outputId": "8191a4a8-af18-4874-aa24-9fa6c660608a"
      },
      "outputs": [
        {
          "output_type": "execute_result",
          "data": {
            "text/plain": [
              "<matplotlib.axes._subplots.AxesSubplot at 0x7fbb028461d0>"
            ]
          },
          "metadata": {},
          "execution_count": 19
        },
        {
          "output_type": "display_data",
          "data": {
            "text/plain": [
              "<Figure size 432x288 with 1 Axes>"
            ],
            "image/png": "[encoded data removed]"
          },
          "metadata": {
            "needs_background": "light"
          }
        }
      ],
      "source": [
        "#Time / density distribution analysis\n",
        "sns.kdeplot(Normal[\"Time\"])\n",
        "sns.kdeplot(Fraudulent[\"Time\"])"
      ]
    },
    {
      "cell_type": "code",
      "execution_count": null,
      "metadata": {
        "colab": {
          "base_uri": "https://localhost:8080/",
          "height": 296
        },
        "id": "OCXgmJrFe_vV",
        "outputId": "d5033512-7501-4b21-d684-eec2c8859dac"
      },
      "outputs": [
        {
          "output_type": "execute_result",
          "data": {
            "text/plain": [
              "<matplotlib.axes._subplots.AxesSubplot at 0x7fbb02773d10>"
            ]
          },
          "metadata": {},
          "execution_count": 20
        },
        {
          "output_type": "display_data",
          "data": {
            "text/plain": [
              "<Figure size 432x288 with 1 Axes>"
            ],
            "image/png": "[encoded data removed]"
          },
          "metadata": {
            "needs_background": "light"
          }
        }
      ],
      "source": [
        "#Amount / density distribution analysis\n",
        "sns.kdeplot(Normal[\"Amount\"])\n",
        "sns.kdeplot(Fraudulent[\"Amount\"])"
      ]
    },
    {
      "cell_type": "code",
      "execution_count": null,
      "metadata": {
        "colab": {
          "base_uri": "https://localhost:8080/"
        },
        "id": "7PTkXAuQwN5q",
        "outputId": "94642398-7ea4-4ada-b506-1a6817c491a2"
      },
      "outputs": [
        {
          "output_type": "stream",
          "name": "stdout",
          "text": [
            "X values\n",
            "               V1         V2        V3        V4        V5        V6  \\\n",
            "0       -1.359807  -0.072781  2.536347  1.378155 -0.338321  0.462388   \n",
            "1        1.191857   0.266151  0.166480  0.448154  0.060018 -0.082361   \n",
            "2       -1.358354  -1.340163  1.773209  0.379780 -0.503198  1.800499   \n",
            "3       -0.966272  -0.185226  1.792993 -0.863291 -0.010309  1.247203   \n",
            "4       -1.158233   0.877737  1.548718  0.403034 -0.407193  0.095921   \n",
            "...           ...        ...       ...       ...       ...       ...   \n",
            "284802 -11.881118  10.071785 -9.834783 -2.066656 -5.364473 -2.606837   \n",
            "284803  -0.732789  -0.055080  2.035030 -0.738589  0.868229  1.058415   \n",
            "284804   1.919565  -0.301254 -3.249640 -0.557828  2.630515  3.031260   \n",
            "284805  -0.240440   0.530483  0.702510  0.689799 -0.377961  0.623708   \n",
            "284806  -0.533413  -0.189733  0.703337 -0.506271 -0.012546 -0.649617   \n",
            "\n",
            "              V7        V8        V9       V10  ...       V19       V20  \\\n",
            "0       0.239599  0.098698  0.363787  0.090794  ...  0.403993  0.251412   \n",
            "1      -0.078803  0.085102 -0.255425 -0.166974  ... -0.145783 -0.069083   \n",
            "2       0.791461  0.247676 -1.514654  0.207643  ... -2.261857  0.524980   \n",
            "3       0.237609  0.377436 -1.387024 -0.054952  ... -1.232622 -0.208038   \n",
            "4       0.592941 -0.270533  0.817739  0.753074  ...  0.803487  0.408542   \n",
            "...          ...       ...       ...       ...  ...       ...       ...   \n",
            "284802 -4.918215  7.305334  1.914428  4.356170  ... -0.682920  1.475829   \n",
            "284803  0.024330  0.294869  0.584800 -0.975926  ... -1.545556  0.059616   \n",
            "284804 -0.296827  0.708417  0.432454 -0.484782  ... -0.577252  0.001396   \n",
            "284805 -0.686180  0.679145  0.392087 -0.399126  ...  2.897849  0.127434   \n",
            "284806  1.577006 -0.414650  0.486180 -0.915427  ... -0.256117  0.382948   \n",
            "\n",
            "             V21       V22       V23       V24       V25       V26       V27  \\\n",
            "0      -0.018307  0.277838 -0.110474  0.066928  0.128539 -0.189115  0.133558   \n",
            "1      -0.225775 -0.638672  0.101288 -0.339846  0.167170  0.125895 -0.008983   \n",
            "2       0.247998  0.771679  0.909412 -0.689281 -0.327642 -0.139097 -0.055353   \n",
            "3      -0.108300  0.005274 -0.190321 -1.175575  0.647376 -0.221929  0.062723   \n",
            "4      -0.009431  0.798278 -0.137458  0.141267 -0.206010  0.502292  0.219422   \n",
            "...          ...       ...       ...       ...       ...       ...       ...   \n",
            "284802  0.213454  0.111864  1.014480 -0.509348  1.436807  0.250034  0.943651   \n",
            "284803  0.214205  0.924384  0.012463 -1.016226 -0.606624 -0.395255  0.068472   \n",
            "284804  0.232045  0.578229 -0.037501  0.640134  0.265745 -0.087371  0.004455   \n",
            "284805  0.265245  0.800049 -0.163298  0.123205 -0.569159  0.546668  0.108821   \n",
            "284806  0.261057  0.643078  0.376777  0.008797 -0.473649 -0.818267 -0.002415   \n",
            "\n",
            "             V28  \n",
            "0      -0.021053  \n",
            "1       0.014724  \n",
            "2      -0.059752  \n",
            "3       0.061458  \n",
            "4       0.215153  \n",
            "...          ...  \n",
            "284802  0.823731  \n",
            "284803 -0.053527  \n",
            "284804 -0.026561  \n",
            "284805  0.104533  \n",
            "284806  0.013649  \n",
            "\n",
            "[284807 rows x 28 columns]\n",
            "Y values\n",
            "0         0\n",
            "1         0\n",
            "2         0\n",
            "3         0\n",
            "4         0\n",
            "         ..\n",
            "284802    0\n",
            "284803    0\n",
            "284804    0\n",
            "284805    0\n",
            "284806    0\n",
            "Name: Class, Length: 284807, dtype: int64\n"
          ]
        }
      ],
      "source": [
        "#Isolating varibles\n",
        "#Model will analysis V1 - V28\n",
        "x = df.iloc[:,1:29]\n",
        "print(\"X values\")\n",
        "print(x)\n",
        "\n",
        "#Comparison varible (\"class\")\n",
        "y = df.iloc[:,-1]\n",
        "print(\"Y values\")\n",
        "print(y)"
      ]
    },
    {
      "cell_type": "code",
      "execution_count": null,
      "metadata": {
        "id": "Z_b5PxSYy1hY"
      },
      "outputs": [],
      "source": [
        "#Divinding training set & testing set\n",
        "x_train, x_test, y_train, y_test = train_test_split(x, y, test_size = 0.2)"
      ]
    },
    {
      "cell_type": "code",
      "execution_count": null,
      "metadata": {
        "id": "hX4mVYgS06wa"
      },
      "outputs": [],
      "source": [
        "#Initializing ANN\n",
        "#Sequential : allows creation of model layer by layer\n",
        "ANN = tf.keras.models.Sequential()\n",
        "\n",
        "#Inputing layer\n",
        "#Unit : number of neurons\n",
        "ANN.add(tf.keras.layers.Dense(units=5, activation=\"relu\"))\n",
        "\n",
        "ANN.add(tf.keras.layers.Dense(units=3, activation=\"sigmoid\"))\n",
        "\n",
        "ANN.add(tf.keras.layers.Dense(units=1, activation=\"sigmoid\"))"
      ]
    },
    {
      "cell_type": "code",
      "execution_count": null,
      "metadata": {
        "id": "zDMIih80UmK1"
      },
      "outputs": [],
      "source": [
        "#Compiling\n",
        "#Optimizer : Used to change attribute (e.g. weights, learning rates) of model to reduce losses\n",
        "#Adam : stochastic gradient decent based on estimate\n",
        "ANN.compile(optimizer=\"adam\", loss=\"binary_crossentropy\", metrics=[\"accuracy\"])"
      ]
    },
    {
      "cell_type": "code",
      "execution_count": null,
      "metadata": {
        "colab": {
          "base_uri": "https://localhost:8080/"
        },
        "id": "xCHi8ngnUn28",
        "outputId": "4800b7c4-7872-43cf-b5eb-6b10f8234f85"
      },
      "outputs": [
        {
          "output_type": "stream",
          "name": "stdout",
          "text": [
            "Epoch 1/10\n",
            "5317/5317 [==============================] - 13s 2ms/step - loss: 0.0602 - accuracy: 0.9981 - val_loss: 0.0065 - val_accuracy: 0.9984\n",
            "Epoch 2/10\n",
            "5317/5317 [==============================] - 12s 2ms/step - loss: 0.0050 - accuracy: 0.9983 - val_loss: 0.0045 - val_accuracy: 0.9984\n",
            "Epoch 3/10\n",
            "5317/5317 [==============================] - 12s 2ms/step - loss: 0.0039 - accuracy: 0.9983 - val_loss: 0.0041 - val_accuracy: 0.9984\n",
            "Epoch 4/10\n",
            "5317/5317 [==============================] - 12s 2ms/step - loss: 0.0035 - accuracy: 0.9987 - val_loss: 0.0036 - val_accuracy: 0.9993\n",
            "Epoch 5/10\n",
            "5317/5317 [==============================] - 12s 2ms/step - loss: 0.0032 - accuracy: 0.9995 - val_loss: 0.0034 - val_accuracy: 0.9993\n",
            "Epoch 6/10\n",
            "5317/5317 [==============================] - 12s 2ms/step - loss: 0.0030 - accuracy: 0.9994 - val_loss: 0.0034 - val_accuracy: 0.9993\n",
            "Epoch 7/10\n",
            "5317/5317 [==============================] - 12s 2ms/step - loss: 0.0029 - accuracy: 0.9995 - val_loss: 0.0033 - val_accuracy: 0.9992\n",
            "Epoch 8/10\n",
            "5317/5317 [==============================] - 12s 2ms/step - loss: 0.0028 - accuracy: 0.9995 - val_loss: 0.0036 - val_accuracy: 0.9993\n",
            "Epoch 9/10\n",
            "5317/5317 [==============================] - 12s 2ms/step - loss: 0.0028 - accuracy: 0.9995 - val_loss: 0.0034 - val_accuracy: 0.9993\n",
            "Epoch 10/10\n",
            "5317/5317 [==============================] - 12s 2ms/step - loss: 0.0027 - accuracy: 0.9995 - val_loss: 0.0035 - val_accuracy: 0.9993\n"
          ]
        }
      ],
      "source": [
        "#Training the ANN\n",
        "#Batch_size : Number of samples past through network at one time\n",
        "#Epochs : Number of training iterations\n",
        "#Validation_split : How data is split between training and validation sets\n",
        "Outcome = ANN.fit (x_train, y_train, batch_size = 30, epochs = 10, validation_split=0.3)"
      ]
    },
    {
      "cell_type": "code",
      "execution_count": null,
      "metadata": {
        "colab": {
          "base_uri": "https://localhost:8080/",
          "height": 296
        },
        "id": "PE-dAz7aF6Ck",
        "outputId": "4e474bd4-a028-4266-b026-7e616e85c6c5"
      },
      "outputs": [
        {
          "output_type": "execute_result",
          "data": {
            "text/plain": [
              "Text(0, 0.5, 'Accuracy')"
            ]
          },
          "metadata": {},
          "execution_count": 30
        },
        {
          "output_type": "display_data",
          "data": {
            "text/plain": [
              "<Figure size 432x288 with 1 Axes>"
            ],
            "image/png": "[encoded data removed]"
          },
          "metadata": {
            "needs_background": "light"
          }
        }
      ],
      "source": [
        "#Accuracy curve\n",
        "plt.plot(Outcome.history[\"accuracy\"])\n",
        "plt.plot(Outcome.history[\"val_accuracy\"])\n",
        "\n",
        "plt.xlabel(\"Epoch\")\n",
        "plt.ylabel(\"Accuracy\")"
      ]
    },
    {
      "cell_type": "code",
      "execution_count": null,
      "metadata": {
        "colab": {
          "base_uri": "https://localhost:8080/",
          "height": 296
        },
        "id": "ru569c8N0ZbD",
        "outputId": "bf1fd5c5-46ee-493a-b952-4b2bda066f5c"
      },
      "outputs": [
        {
          "output_type": "execute_result",
          "data": {
            "text/plain": [
              "Text(0, 0.5, 'Loss')"
            ]
          },
          "metadata": {},
          "execution_count": 27
        },
        {
          "output_type": "display_data",
          "data": {
            "text/plain": [
              "<Figure size 432x288 with 1 Axes>"
            ],
            "image/png": "[encoded data removed]"
          },
          "metadata": {
            "needs_background": "light"
          }
        }
      ],
      "source": [
        "#Loss curver\n",
        "plt.plot(Outcome.history[\"loss\"])\n",
        "plt.plot(Outcome.history[\"val_loss\"])\n",
        "\n",
        "plt.xlabel(\"Epoch\")\n",
        "plt.ylabel(\"Loss\")"
      ]
    },
    {
      "cell_type": "code",
      "execution_count": null,
      "metadata": {
        "colab": {
          "base_uri": "https://localhost:8080/"
        },
        "id": "OQ3WnSrWD_AO",
        "outputId": "a1200dc9-5676-4fbd-e60c-cc2c8de979d7"
      },
      "outputs": [
        {
          "output_type": "stream",
          "name": "stdout",
          "text": [
            "Accuracy :\n"
          ]
        },
        {
          "output_type": "execute_result",
          "data": {
            "text/plain": [
              "0.9992802219023208"
            ]
          },
          "metadata": {},
          "execution_count": 28
        }
      ],
      "source": [
        "#Decision tree \n",
        "Classifer = DecisionTreeClassifier()  \n",
        "Classifer.fit(x_train,y_train)\n",
        "\n",
        "y_predict = Classifer.predict(x_test)\n",
        "\n",
        "print(\"Accuracy :\")\n",
        "accuracy_score(y_test,y_predict)"
      ]
    }
  ],
  "metadata": {
    "colab": {
      "provenance": []
    },
    "kernelspec": {
      "display_name": "Python 3",
      "name": "python3"
    },
    "language_info": {
      "name": "python"
    }
  },
  "nbformat": 4,
  "nbformat_minor": 0
}